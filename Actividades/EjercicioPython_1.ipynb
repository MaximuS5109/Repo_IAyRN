{
  "nbformat": 4,
  "nbformat_minor": 0,
  "metadata": {
    "colab": {
      "provenance": []
    },
    "kernelspec": {
      "name": "python3",
      "display_name": "Python 3"
    },
    "language_info": {
      "name": "python"
    }
  },
  "cells": [
    {
      "cell_type": "markdown",
      "source": [
        "Actividad 2: Diseño de algoritmos en Python\n",
        "Jose Angel Salazar Willars 1913413\n",
        "N1"
      ],
      "metadata": {
        "id": "tK_HuWP6R_yJ"
      }
    },
    {
      "cell_type": "code",
      "execution_count": null,
      "metadata": {
        "colab": {
          "base_uri": "https://localhost:8080/"
        },
        "id": "-OtIds5Fa2YB",
        "outputId": "00c666c2-469c-4589-869e-863088f60526"
      },
      "outputs": [
        {
          "output_type": "stream",
          "name": "stdout",
          "text": [
            "Ingrese su nombre: Jose\n",
            "Hola, Jose. ¡Bienvenido!\n"
          ]
        }
      ],
      "source": [
        "# Pedir al usuario que ingrese su nombre\n",
        "nombre = input(\"Ingrese su nombre: \")\n",
        "\n",
        "# Verificar si el nombre es \"Ana\", \"Juan\" o \"Pedro\"\n",
        "if nombre.lower() in [\"ana\", \"juan\", \"pedro\"]:\n",
        "    print(\"Hola, \" + nombre + \". ¡Qué nombre tan común!\")\n",
        "else:\n",
        "    print(\"Hola, \" + nombre + \". ¡Bienvenido!\")"
      ]
    },
    {
      "cell_type": "code",
      "source": [
        "def invertir_lista():\n",
        "    # Pedir al usuario que ingrese el número de elementos de la lista\n",
        "    n = int(input(\"Ingrese el número de elementos de la lista: \"))\n",
        "\n",
        "    # Pedir al usuario que ingrese los elementos de la lista\n",
        "    lista = []\n",
        "    for i in range(n):\n",
        "        elemento = input(\"Ingrese el elemento \" + str(i+1) + \": \")\n",
        "        lista.append(elemento)\n",
        "\n",
        "    # Invertir la lista\n",
        "    lista_invertida = lista[::-1]\n",
        "\n",
        "    # Imprimir la lista invertida\n",
        "    print(\"Lista invertida:\", lista_invertida)\n",
        "\n",
        "# Llamar a la función para probarla\n",
        "invertir_lista()\n"
      ],
      "metadata": {
        "colab": {
          "base_uri": "https://localhost:8080/"
        },
        "id": "uFTJ9FtmcX_p",
        "outputId": "22cb3b5c-7a9e-46ad-f4eb-1f4a12e74e15"
      },
      "execution_count": 1,
      "outputs": [
        {
          "output_type": "stream",
          "name": "stdout",
          "text": [
            "Ingrese el número de elementos de la lista: 5\n",
            "Ingrese el elemento 1: Agua\n",
            "Ingrese el elemento 2: Fuego\n",
            "Ingrese el elemento 3: Tierra\n",
            "Ingrese el elemento 4: Aire\n",
            "Ingrese el elemento 5: Futbol\n",
            "Lista invertida: ['Futbol', 'Aire', 'Tierra', 'Fuego', 'Agua']\n"
          ]
        }
      ]
    },
    {
      "cell_type": "code",
      "source": [
        "def fibonacci(n):\n",
        "    # Inicializar la serie de Fibonacci con los dos primeros números\n",
        "    serie = [0, 1]\n",
        "\n",
        "    # Generar la serie de Fibonacci hasta el número n\n",
        "    for i in range(2, n):\n",
        "        serie.append(serie[i-1] + serie[i-2])\n",
        "\n",
        "    # Retornar la serie generada\n",
        "    return serie\n",
        "\n",
        "# Pedir al usuario cuántos números de la serie de Fibonacci quiere generar\n",
        "n = int(input(\"Ingrese cuántos números de la serie de Fibonacci quiere generar: \"))\n",
        "\n",
        "# Generar la serie de Fibonacci\n",
        "resultado = fibonacci(n)\n",
        "\n",
        "# Imprimir la serie generada\n",
        "print(\"Serie de Fibonacci:\", resultado)\n"
      ],
      "metadata": {
        "colab": {
          "base_uri": "https://localhost:8080/"
        },
        "id": "wNdAG3r-f_-c",
        "outputId": "6c2ca57b-50b4-4c78-fa6d-0f74c71a3ed3"
      },
      "execution_count": null,
      "outputs": [
        {
          "output_type": "stream",
          "name": "stdout",
          "text": [
            "Ingrese cuántos números de la serie de Fibonacci quiere generar: 10\n",
            "Serie de Fibonacci: [0, 1, 1, 2, 3, 5, 8, 13, 21, 34]\n"
          ]
        }
      ]
    },
    {
      "cell_type": "code",
      "source": [
        "import random\n",
        "\n",
        "def juego_adivinar_numero():\n",
        "    # Generar un número aleatorio entre 1 y 100\n",
        "    numero_objetivo = random.randint(1, 100)\n",
        "\n",
        "    # Pedir al usuario que adivine el número\n",
        "    while True:\n",
        "        intento = int(input(\"Adivina el número (entre 1 y 100): \"))\n",
        "        if intento < numero_objetivo:\n",
        "            print(\"El número es mayor.\")\n",
        "        elif intento > numero_objetivo:\n",
        "            print(\"El número es menor.\")\n",
        "        else:\n",
        "            print(\"¡Felicitaciones! Has adivinado el número.\")\n",
        "            break\n",
        "\n",
        "# Llamar a la función para comenzar el juego\n",
        "juego_adivinar_numero()\n"
      ],
      "metadata": {
        "colab": {
          "base_uri": "https://localhost:8080/"
        },
        "id": "zgzmrOp5gwd_",
        "outputId": "9eaf0a10-bcf3-4b4f-bdcf-ff39bbaa72ad"
      },
      "execution_count": null,
      "outputs": [
        {
          "output_type": "stream",
          "name": "stdout",
          "text": [
            "Adivina el número (entre 1 y 100): 57\n",
            "El número es menor.\n",
            "Adivina el número (entre 1 y 100): 50\n",
            "El número es menor.\n",
            "Adivina el número (entre 1 y 100): 30\n",
            "El número es mayor.\n",
            "Adivina el número (entre 1 y 100): 40\n",
            "El número es menor.\n",
            "Adivina el número (entre 1 y 100): 35\n",
            "El número es mayor.\n",
            "Adivina el número (entre 1 y 100): 36\n",
            "El número es mayor.\n",
            "Adivina el número (entre 1 y 100): 38\n",
            "El número es mayor.\n",
            "Adivina el número (entre 1 y 100): 39\n",
            "¡Felicitaciones! Has adivinado el número.\n"
          ]
        }
      ]
    },
    {
      "cell_type": "code",
      "source": [
        "def es_primo(num):\n",
        "    if num < 2:\n",
        "        return False\n",
        "    for i in range(2, int(num**0.5) + 1):\n",
        "        if num % i == 0:\n",
        "            return False\n",
        "    return True\n",
        "\n",
        "def numeros_primos_en_rango():\n",
        "    # Pedir al usuario el rango de números\n",
        "    inicio = int(input(\"Ingrese el número inicial del rango: \"))\n",
        "    fin = int(input(\"Ingrese el número final del rango: \"))\n",
        "\n",
        "    print(\"Números primos en el rango de\", inicio, \"a\", fin, \":\")\n",
        "\n",
        "    # Encontrar y mostrar los números primos dentro del rango\n",
        "    for num in range(inicio, fin + 1):\n",
        "        if es_primo(num):\n",
        "            print(num)\n",
        "\n",
        "# Llamar a la función para encontrar los números primos en el rango dado\n",
        "numeros_primos_en_rango()\n"
      ],
      "metadata": {
        "colab": {
          "base_uri": "https://localhost:8080/"
        },
        "id": "0R1Kr85-hT8V",
        "outputId": "ffbb6b40-1af3-41c9-cbb5-0c2cf8b548b2"
      },
      "execution_count": null,
      "outputs": [
        {
          "output_type": "stream",
          "name": "stdout",
          "text": [
            "Ingrese el número inicial del rango: 1\n",
            "Ingrese el número final del rango: 20\n",
            "Números primos en el rango de 1 a 20 :\n",
            "2\n",
            "3\n",
            "5\n",
            "7\n",
            "11\n",
            "13\n",
            "17\n",
            "19\n"
          ]
        }
      ]
    },
    {
      "cell_type": "code",
      "source": [
        "def suma(a, b):\n",
        "    return a + b\n",
        "\n",
        "def resta(a, b):\n",
        "    return a - b\n",
        "\n",
        "def multiplicacion(a, b):\n",
        "    return a * b\n",
        "\n",
        "def division(a, b):\n",
        "    if b != 0:\n",
        "        return a / b\n",
        "    else:\n",
        "        return \"Error: No se puede dividir entre cero\"\n",
        "\n",
        "def calculadora_basica():\n",
        "    # Pedir al usuario dos números\n",
        "    a = float(input(\"Ingrese el primer número: \"))\n",
        "    b = float(input(\"Ingrese el segundo número: \"))\n",
        "\n",
        "    # Mostrar las opciones de operaciones\n",
        "    print(\"\\nOperaciones disponibles:\")\n",
        "    print(\"1. Suma\")\n",
        "    print(\"2. Resta\")\n",
        "    print(\"3. Multiplicación\")\n",
        "    print(\"4. División\")\n",
        "\n",
        "    # Pedir al usuario que elija una operación\n",
        "    opcion = int(input(\"\\nIngrese el número de la operación que desea realizar: \"))\n",
        "\n",
        "    # Realizar la operación seleccionada\n",
        "    if opcion == 1:\n",
        "        print(\"Resultado de la suma:\", suma(a, b))\n",
        "    elif opcion == 2:\n",
        "        print(\"Resultado de la resta:\", resta(a, b))\n",
        "    elif opcion == 3:\n",
        "        print(\"Resultado de la multiplicación:\", multiplicacion(a, b))\n",
        "    elif opcion == 4:\n",
        "        print(\"Resultado de la división:\", division(a, b))\n",
        "    else:\n",
        "        print(\"Opción inválida\")\n",
        "\n",
        "# Llamar a la función para ejecutar la calculadora\n",
        "calculadora_basica()\n"
      ],
      "metadata": {
        "colab": {
          "base_uri": "https://localhost:8080/"
        },
        "id": "g2RwlSqLhziB",
        "outputId": "8db237dd-b57b-4c20-c58e-33ede1daf58c"
      },
      "execution_count": null,
      "outputs": [
        {
          "output_type": "stream",
          "name": "stdout",
          "text": [
            "Ingrese el primer número: 20\n",
            "Ingrese el segundo número: 52\n",
            "\n",
            "Operaciones disponibles:\n",
            "1. Suma\n",
            "2. Resta\n",
            "3. Multiplicación\n",
            "4. División\n",
            "\n",
            "Ingrese el número de la operación que desea realizar: 3\n",
            "Resultado de la multiplicación: 1040.0\n"
          ]
        }
      ]
    }
  ]
}